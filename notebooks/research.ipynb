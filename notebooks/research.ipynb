{
 "cells": [
  {
   "cell_type": "code",
   "execution_count": 1,
   "id": "42cad22b",
   "metadata": {},
   "outputs": [],
   "source": [
    "CV_PATH = \"../data/people_resume.pdf\""
   ]
  },
  {
   "cell_type": "code",
   "execution_count": 2,
   "id": "75415875",
   "metadata": {},
   "outputs": [],
   "source": [
    "from pdfminer.high_level import extract_text\n",
    "from langchain_groq import ChatGroq\n",
    "import os\n",
    "from dotenv import load_dotenv"
   ]
  },
  {
   "cell_type": "code",
   "execution_count": 3,
   "id": "82a4423e",
   "metadata": {},
   "outputs": [],
   "source": [
    "load_dotenv()\n",
    "\n",
    "# api key setup\n",
    "os.environ[\"GORQ_API_KEY\"] = os.getenv(\"GROQ_API_KEY\")"
   ]
  },
  {
   "cell_type": "code",
   "execution_count": 4,
   "id": "5aa97945",
   "metadata": {},
   "outputs": [],
   "source": [
    "cv_data = extract_text(CV_PATH)"
   ]
  },
  {
   "cell_type": "code",
   "execution_count": 5,
   "id": "2bf3ab2d",
   "metadata": {},
   "outputs": [
    {
     "data": {
      "text/plain": [
       "'Aashutosh Rathi\\n\\naashutosh.dev\\n\\nLast Updated on 6th January 2025\\n\\nEDUCATION\\nIIIT VADODARA\\nB.TECH IN COMPUTER SCIENCE\\n2016-2020 | Gandhinagar, India\\nCPI: 8.92/10\\n\\nOPENCLASSROOM\\nFRONTEND DEVELOPER PATH\\nJan 2019 - Jan 2020\\n\\nLINKS\\nWebsite:// aashutosh.dev\\nGitHub:// @aashutoshrathi\\nNewsletter:// The Nibbles\\nBlog:// xp.tar.gz\\nEmail:// aashutoshrathi@gmail.com\\n\\nCOURSEWORK\\nUNDERGRADUATE\\nAlgorithms\\nOperating Systems\\nData Structures\\nComputer Networks\\nDistributed Systems\\nProbability and Statistics\\nArtiﬁcial Intelligence\\n\\nSKILLS\\nPROGRAMMING\\nAdvanced:\\nJavaScript • Python • Java\\nC++ • AWS • Shell • CSS\\nDart • Go • SQL\\nIntermediate:\\nSolidity • PHP\\nAndroid • Rust\\n\\nEXPERIENCE\\nLEAD SOFTWARE ENGINEER STACKR LABS\\nFeb 2024 - Dec 2024\\nTech Stack: TypeScript, Go, Rust, AWS, Solidity, Wasm\\n\\n• Worked on SDK for building rollups like regular web applications and auxiliary\\n\\ntools\\n\\n• Led the on-chain projects dChess, Chess rollup and Comets, Atari’s game.\\n• Led benchmarking efforts for ”A not so succinct comparison between zkVMs\\n\\n2024 edition” - Code | Blog\\n\\nSENIOR SOFTWARE ENGINEER REGIE.AI, SAN FRANCISCO, CA\\nDec 2021 - Feb 2024\\nTech Stack: TypeScript, React, AWS, RAG, GPT, NLP\\n\\n• Led the development of ﬂagship product ”Autopilot”, designing infrastructure,\\n\\n3rd party integration, content quality, and product ﬂows.\\n\\n• Worked on developing CMS, live Collaboration, and various AI-powered sales\\n\\ntooling.\\n\\n• Developed Browser Extension that brings Regie’s AI superpowers, Content\\n\\nLibrary to your everyday inboxes & Sales Platforms\\n\\nSOFTWARE DEVELOPMENT ENGINEER | JIO, MUMBAI, INDIA\\nAug 2020 - Dec 2021\\nTech Stack: NodeJS, Go, React, SMPP, Azure\\n\\n• Developed scalable and robust API for sending SMS using HTTP.\\n• Developed a dashboard for the ”t.jio” URL Shortening Service.\\n\\nSOFTWARE ENGINEERING INTERN | SHIPSY, GURUGRAM, INDIA\\nJan 2020 - Jul 2020 & May 2019 - Jul 2019\\n\\n• Developed a robust and modular API and used Swagger for documentation.\\n• Improved database structures and indexed columns to improve performance.\\n• Designed and developed front-end for internal admin tools.\\n\\nPROJECTS\\nINVOICIFY | DEVELOPER\\nJuly 2020 - Now | React, Electron, NestJS, NodeJS\\nCode: https://github.com/2AMDevs/invoicify-app\\nInvoicify is a desktop app to enable, quicker and customizable invoicing experience for\\nbusinesses. It allows one to conﬁgure ﬁelds and their position on invoices.\\n\\nLABPER | LEAD DEVELOPER\\nOct 2018 – Dec 2018 | Django, REST, UIKit, Heroku\\nCode: https://github.com/aashutoshrathi/labper\\nLabper, a portal for managing and evaluating assignments for institutes.\\n\\nDEVFEST MANAGEMENT TOOL | DEVELOPER\\nSept 2019 – Oct 2019 | Flutter, Firebase, Python\\nCode: https://github.com/GDG-GANDHINAGAR/devfest-19\\nBuilt the landing page & tools to generate ID Card with QR Codes & send them to\\nparticipants.\\n\\nCERTIFICATIONS AND AWARDS\\nMay 2022 WarpSpeed Hackathon Won ETHIndia Bounty for The Rollup SDK\\nDec 2018\\n\\nOne of Top 10 contributor for IssueHunt Fest 2018\\n\\nIssueHunt\\n\\n1\\n\\n\\x0c'"
      ]
     },
     "execution_count": 5,
     "metadata": {},
     "output_type": "execute_result"
    }
   ],
   "source": [
    "cv_data"
   ]
  },
  {
   "cell_type": "code",
   "execution_count": 6,
   "id": "026cda6c",
   "metadata": {},
   "outputs": [],
   "source": [
    "## LLM setup\n",
    "\n",
    "llm = ChatGroq(\n",
    "    model=\"openai/gpt-oss-120b\"\n",
    ")"
   ]
  },
  {
   "cell_type": "code",
   "execution_count": 7,
   "id": "4f99237a",
   "metadata": {},
   "outputs": [],
   "source": [
    "from langchain_core.prompts import PromptTemplate\n",
    "from langchain_core.output_parsers import JsonOutputParser"
   ]
  },
  {
   "cell_type": "code",
   "execution_count": 8,
   "id": "e3a28d69",
   "metadata": {},
   "outputs": [],
   "source": [
    "template = PromptTemplate(\n",
    "    template = \"\"\"\n",
    "        You are a resume parsing assistant.\n",
    "\n",
    "        Your job is to extract structured information from a resume and return the data in valid JSON format. \n",
    "        Only return the JSON object — do not include any explanations or extra text.\n",
    "\n",
    "        Extract the following fields:\n",
    "\n",
    "        - full_name\n",
    "        - email\n",
    "        - skills (as a list of strings)\n",
    "        - education (as a list of objects with degree, institution, and optionally year)\n",
    "        - work_experience (as a list of objects with job_title, company, and optionally years)\n",
    "\n",
    "        If a field is not found, use `null` or an empty list where appropriate.\n",
    "\n",
    "        Resume text: \n",
    "        \\n\\n\\n\n",
    "        {resume_context}\n",
    "        \\n\\n\\n\n",
    "\n",
    "        Return only the parsed JSON below:\n",
    "        \"\"\",\n",
    "    input_variables=[\"resume_context\"]\n",
    ")"
   ]
  },
  {
   "cell_type": "code",
   "execution_count": 9,
   "id": "bb06210b",
   "metadata": {},
   "outputs": [],
   "source": [
    "parser = JsonOutputParser()"
   ]
  },
  {
   "cell_type": "code",
   "execution_count": 10,
   "id": "909dfaca",
   "metadata": {},
   "outputs": [],
   "source": [
    "chain = template | llm | parser"
   ]
  },
  {
   "cell_type": "code",
   "execution_count": 11,
   "id": "5f0dd7a9",
   "metadata": {},
   "outputs": [],
   "source": [
    "resume_extracted_output = chain.invoke({\n",
    "    \"resume_context\" : cv_data\n",
    "})"
   ]
  },
  {
   "cell_type": "code",
   "execution_count": 12,
   "id": "cbe238bd",
   "metadata": {},
   "outputs": [],
   "source": [
    "# Save cv data\n",
    "import json\n",
    "\n",
    "# save path\n",
    "json_save_path = \"../data/parsed_resume.json\"\n",
    "\n",
    "with open(json_save_path, \"w\") as file:\n",
    "    json.dump(resume_extracted_output, file, indent=2)"
   ]
  },
  {
   "cell_type": "code",
   "execution_count": 13,
   "id": "bacad959",
   "metadata": {},
   "outputs": [],
   "source": [
    "## load parsed data\n",
    "\n",
    "with open(json_save_path, \"r\") as file:\n",
    "    parsed_resume = json.load(file)\n"
   ]
  },
  {
   "cell_type": "code",
   "execution_count": 16,
   "id": "d10016a3",
   "metadata": {},
   "outputs": [],
   "source": [
    "### match job description\n",
    "\n",
    "from langchain.prompts import PromptTemplate\n",
    "\n",
    "from langchain.prompts import PromptTemplate\n",
    "\n",
    "prompt = PromptTemplate(\n",
    "    input_variables=[\"job_description\", \"resume\"],\n",
    "    template=\"\"\"\n",
    "        You are an AI recruitment assistant.\n",
    "\n",
    "        Your task is to evaluate how well a candidate’s resume aligns with the given job description.\n",
    "\n",
    "        ### Instructions:\n",
    "        1. Carefully analyze the **Job Description** and the **Resume** provided.\n",
    "        2. Evaluate the candidate’s skills, experience, and qualifications against the job requirements.\n",
    "        3. Provide:\n",
    "        - A **match percentage score** (only the number with a % sign, e.g., \"85%\").\n",
    "\n",
    "        ### Input Data:\n",
    "        Job Description:\n",
    "        {job_description}\n",
    "\n",
    "        Resume:\n",
    "        {resume}\n",
    "\n",
    "        ### Output Format (JSON only):\n",
    "        {{\n",
    "        \"score\": \"<percentage, e.g., 85%>\"\n",
    "        }}\n",
    "        \"\"\"\n",
    ")\n",
    "\n"
   ]
  },
  {
   "cell_type": "code",
   "execution_count": 17,
   "id": "83e312fe",
   "metadata": {},
   "outputs": [],
   "source": [
    "final_chain = prompt | llm | parser"
   ]
  },
  {
   "cell_type": "code",
   "execution_count": 32,
   "id": "4b5da3f9",
   "metadata": {},
   "outputs": [],
   "source": [
    "job_des = \"\"\"\n",
    "    We are looking for a UI/UX Designer with experience in Figma, Adobe XD, and responsive design principles. The candidate should be able to create wireframes, prototypes, and collaborate closely with developers.\n",
    "\"\"\""
   ]
  },
  {
   "cell_type": "code",
   "execution_count": 33,
   "id": "bb811e3d",
   "metadata": {},
   "outputs": [],
   "source": [
    "result = final_chain.invoke({\n",
    "    \"resume\" : parsed_resume,\n",
    "    \"job_description\" : job_des\n",
    "})"
   ]
  },
  {
   "cell_type": "code",
   "execution_count": 34,
   "id": "1b592e43",
   "metadata": {},
   "outputs": [],
   "source": [
    "result\n",
    "score = int(result[\"score\"].replace('%',''))"
   ]
  },
  {
   "cell_type": "code",
   "execution_count": 35,
   "id": "5f7334a4",
   "metadata": {},
   "outputs": [
    {
     "data": {
      "text/plain": [
       "10"
      ]
     },
     "execution_count": 35,
     "metadata": {},
     "output_type": "execute_result"
    }
   ],
   "source": [
    "score"
   ]
  },
  {
   "cell_type": "code",
   "execution_count": 41,
   "id": "58eadd63",
   "metadata": {},
   "outputs": [],
   "source": [
    "if score > 60:\n",
    "    print(\"Score is fine\")\n",
    "else:\n",
    "    rewrite_cv = PromptTemplate(\n",
    "        input_variables=[\"resume\", \"job_description\"],\n",
    "        template=\"\"\"\n",
    "    You are an AI assistant. The candidate's current resume may not fully align with the given job description.\n",
    "\n",
    "    ### Instructions:\n",
    "    1. Rewrite the resume in JSON format to better highlight the skills, experience, and qualifications relevant to the job description.\n",
    "    2. Preserve the candidate's original information but reorder, emphasize, or rephrase it to match the job requirements.\n",
    "    3. Return the rewritten resume strictly in JSON format. Do not include any extra text.\n",
    "\n",
    "    ### Input:\n",
    "    Resume:\n",
    "    {resume}\n",
    "\n",
    "    Job Description:\n",
    "    {job_description}\n",
    "\n",
    "    ### Output:\n",
    "    JSON only\n",
    "    \"\"\"\n",
    "    )\n",
    "    \n",
    "    \n",
    "    chain = rewrite_cv | llm | parser\n",
    "    output_result = chain.invoke({\n",
    "        \"resume\" : parsed_resume,\n",
    "        \"job_description\" : job_des\n",
    "    })\n",
    "    \n",
    "    \n",
    "    "
   ]
  },
  {
   "cell_type": "code",
   "execution_count": 42,
   "id": "07cb7b3c",
   "metadata": {},
   "outputs": [
    {
     "data": {
      "text/plain": [
       "{'full_name': 'Aashutosh Rathi',\n",
       " 'email': 'aashutoshrathi@gmail.com',\n",
       " 'summary': 'Software engineer with strong front‑end development expertise and a focus on creating responsive, user‑centric interfaces. Experienced in translating wireframes and prototypes into production‑ready UI using JavaScript, CSS, and modern frameworks, and collaborating closely with design and development teams.',\n",
       " 'skills': ['CSS',\n",
       "  'JavaScript',\n",
       "  'Dart',\n",
       "  'Flutter',\n",
       "  'HTML',\n",
       "  'Responsive Design',\n",
       "  'Wireframing',\n",
       "  'Prototyping',\n",
       "  'Python',\n",
       "  'Java',\n",
       "  'C++',\n",
       "  'Go',\n",
       "  'SQL',\n",
       "  'AWS',\n",
       "  'Shell',\n",
       "  'Solidity',\n",
       "  'PHP',\n",
       "  'Android',\n",
       "  'Rust'],\n",
       " 'education': [{'degree': 'B.TECH IN COMPUTER SCIENCE',\n",
       "   'institution': 'IIIT VADODARA',\n",
       "   'year': '2016-2020'},\n",
       "  {'degree': 'FRONTEND DEVELOPER PATH',\n",
       "   'institution': 'OPENCLASSROOM',\n",
       "   'year': 'Jan 2019 - Jan 2020'}],\n",
       " 'work_experience': [{'job_title': 'LEAD SOFTWARE ENGINEER',\n",
       "   'company': 'STACKR LABS',\n",
       "   'years': 'Feb 2024 - Dec 2024',\n",
       "   'responsibilities': ['Led a front‑end team to design and implement responsive web applications using JavaScript, CSS, and UI component libraries.',\n",
       "    'Created high‑fidelity wireframes and interactive prototypes to communicate design concepts to stakeholders.',\n",
       "    'Collaborated with UI/UX designers to ensure design consistency and seamless hand‑off to development.']},\n",
       "  {'job_title': 'SENIOR SOFTWARE ENGINEER',\n",
       "   'company': 'REGIE.AI, SAN FRANCISCO, CA',\n",
       "   'years': 'Dec 2021 - Feb 2024',\n",
       "   'responsibilities': ['Developed client‑side features for SaaS products with a focus on usability and cross‑device responsiveness.',\n",
       "    'Worked closely with product designers to translate mockups into functional UI components.',\n",
       "    'Implemented design system guidelines to maintain visual consistency across multiple platforms.']},\n",
       "  {'job_title': 'SOFTWARE DEVELOPMENT ENGINEER',\n",
       "   'company': 'JIO, MUMBAI, INDIA',\n",
       "   'years': 'Aug 2020 - Dec 2021',\n",
       "   'responsibilities': ['Built interactive web interfaces for consumer applications, emphasizing clean layout and responsive behavior.',\n",
       "    'Participated in UI/UX review sessions, providing technical feedback on feasibility and performance.']},\n",
       "  {'job_title': 'SOFTWARE ENGINEERING INTERN',\n",
       "   'company': 'SHIPSY, GURUGRAM, INDIA',\n",
       "   'years': 'Jan 2020 - Jul 2020 & May 2019 - Jul 2019',\n",
       "   'responsibilities': ['Assisted in developing front‑end modules and contributed to UI mockup creation.',\n",
       "    'Supported the design team by implementing prototype features for user testing.']}]}"
      ]
     },
     "execution_count": 42,
     "metadata": {},
     "output_type": "execute_result"
    }
   ],
   "source": [
    "output_result"
   ]
  },
  {
   "cell_type": "code",
   "execution_count": 43,
   "id": "41ed66f1",
   "metadata": {},
   "outputs": [],
   "source": [
    "result = final_chain.invoke({\n",
    "    \"resume\" : output_result,\n",
    "    \"job_description\" : job_des\n",
    "})"
   ]
  },
  {
   "cell_type": "code",
   "execution_count": 44,
   "id": "0a235176",
   "metadata": {},
   "outputs": [
    {
     "data": {
      "text/plain": [
       "{'score': '72%'}"
      ]
     },
     "execution_count": 44,
     "metadata": {},
     "output_type": "execute_result"
    }
   ],
   "source": [
    "result"
   ]
  },
  {
   "cell_type": "code",
   "execution_count": null,
   "id": "7f6cbada",
   "metadata": {},
   "outputs": [],
   "source": []
  }
 ],
 "metadata": {
  "kernelspec": {
   "display_name": "cv_analyze",
   "language": "python",
   "name": "python3"
  },
  "language_info": {
   "codemirror_mode": {
    "name": "ipython",
    "version": 3
   },
   "file_extension": ".py",
   "mimetype": "text/x-python",
   "name": "python",
   "nbconvert_exporter": "python",
   "pygments_lexer": "ipython3",
   "version": "3.11.13"
  }
 },
 "nbformat": 4,
 "nbformat_minor": 5
}
